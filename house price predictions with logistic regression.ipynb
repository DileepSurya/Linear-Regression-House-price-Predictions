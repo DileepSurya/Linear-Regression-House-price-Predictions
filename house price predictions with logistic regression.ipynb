{
 "cells": [
  {
   "cell_type": "code",
   "execution_count": 79,
   "metadata": {},
   "outputs": [],
   "source": [
    "from sklearn.metrics import accuracy_score  \n",
    "from sklearn.linear_model import LogisticRegression "
   ]
  },
  {
   "cell_type": "code",
   "execution_count": 80,
   "metadata": {},
   "outputs": [],
   "source": [
    "tr=open(\"train_after_extracting_Number_Columns.csv\",\"r\")\n",
    "records=tr.readlines()\n",
    "tr.close()"
   ]
  },
  {
   "cell_type": "code",
   "execution_count": 81,
   "metadata": {},
   "outputs": [],
   "source": [
    "X=[[] for i in range(1460)]\n",
    "y=[]\n",
    "for i in range(1,len(records)):\n",
    "    for j in range(len(records[i].strip().split(\",\"))-1):\n",
    "        X[i - 1].append(int(records[i].strip().split(\",\")[j]))\n",
    "    y.append(int(records[i].strip().split(\",\")[36]))"
   ]
  },
  {
   "cell_type": "code",
   "execution_count": 85,
   "metadata": {},
   "outputs": [
    {
     "name": "stderr",
     "output_type": "stream",
     "text": [
      "C:\\Users\\Dileep Surya\\Anaconda3\\lib\\site-packages\\sklearn\\linear_model\\logistic.py:432: FutureWarning: Default solver will be changed to 'lbfgs' in 0.22. Specify a solver to silence this warning.\n",
      "  FutureWarning)\n",
      "C:\\Users\\Dileep Surya\\Anaconda3\\lib\\site-packages\\sklearn\\linear_model\\logistic.py:469: FutureWarning: Default multi_class will be changed to 'auto' in 0.22. Specify the multi_class option to silence this warning.\n",
      "  \"this warning.\", FutureWarning)\n",
      "C:\\Users\\Dileep Surya\\Anaconda3\\lib\\site-packages\\sklearn\\svm\\base.py:929: ConvergenceWarning: Liblinear failed to converge, increase the number of iterations.\n",
      "  \"the number of iterations.\", ConvergenceWarning)\n"
     ]
    },
    {
     "data": {
      "text/plain": [
       "LogisticRegression(C=1.0, class_weight=None, dual=False, fit_intercept=True,\n",
       "                   intercept_scaling=1, l1_ratio=None, max_iter=100,\n",
       "                   multi_class='warn', n_jobs=None, penalty='l2',\n",
       "                   random_state=None, solver='warn', tol=0.0001, verbose=0,\n",
       "                   warm_start=False)"
      ]
     },
     "execution_count": 85,
     "metadata": {},
     "output_type": "execute_result"
    }
   ],
   "source": [
    "lr = LogisticRegression()\n",
    "lr.fit(X,y)"
   ]
  },
  {
   "cell_type": "code",
   "execution_count": 75,
   "metadata": {},
   "outputs": [],
   "source": [
    "te=open(\"test_after_extracting_Number_Columns.csv\",\"r\")\n",
    "records1=te.readlines()\n",
    "te.close()\n",
    "\n"
   ]
  },
  {
   "cell_type": "code",
   "execution_count": 76,
   "metadata": {},
   "outputs": [],
   "source": [
    "XX=[[] for i in range(1459)]\n",
    "yy=[]\n",
    "for i in range(1,len(records1)):\n",
    "    for j in range(len(records1[i].strip().split(\",\"))):\n",
    "        XX[i - 1].append(int(records1[i].strip().split(\",\")[j]))\n",
    "yy = lr.predict(XX)"
   ]
  },
  {
   "cell_type": "code",
   "execution_count": 77,
   "metadata": {
    "scrolled": true
   },
   "outputs": [
    {
     "name": "stdout",
     "output_type": "stream",
     "text": [
      "Writing to File\n"
     ]
    }
   ],
   "source": [
    "result=open(\"result.csv\",\"w\")  \n",
    "print(\"Writing to File\")  \n",
    "result.write(\"House No,Predicted Price\" + \"\\n\")  \n",
    "for i in range(len(yy)):  \n",
    "    result.write(str(i+1) + \",\" + str(yy[i]) + \"\\n\")  \n",
    "result.close()  "
   ]
  },
  {
   "cell_type": "code",
   "execution_count": 78,
   "metadata": {},
   "outputs": [
    {
     "name": "stdout",
     "output_type": "stream",
     "text": [
      "model accuracy\n",
      "68.56164383561644\n"
     ]
    }
   ],
   "source": [
    "yyy = lr.predict(X)  \n",
    "accuracy = accuracy_score(y,yyy)*100  \n",
    "print (\"model accuracy\")  \n",
    "print(accuracy)  "
   ]
  },
  {
   "cell_type": "code",
   "execution_count": null,
   "metadata": {},
   "outputs": [],
   "source": []
  },
  {
   "cell_type": "code",
   "execution_count": null,
   "metadata": {},
   "outputs": [],
   "source": []
  }
 ],
 "metadata": {
  "kernelspec": {
   "display_name": "Python 3",
   "language": "python",
   "name": "python3"
  },
  "language_info": {
   "codemirror_mode": {
    "name": "ipython",
    "version": 3
   },
   "file_extension": ".py",
   "mimetype": "text/x-python",
   "name": "python",
   "nbconvert_exporter": "python",
   "pygments_lexer": "ipython3",
   "version": "3.7.4"
  }
 },
 "nbformat": 4,
 "nbformat_minor": 2
}
